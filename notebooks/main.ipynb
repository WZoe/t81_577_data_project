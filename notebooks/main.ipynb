{
  "nbformat": 4,
  "nbformat_minor": 0,
  "metadata": {
    "colab": {
      "name": "main.ipynb",
      "provenance": []
    },
    "kernelspec": {
      "name": "python3",
      "display_name": "Python 3"
    }
  },
  "cells": [
    {
      "cell_type": "markdown",
      "metadata": {
        "id": "VdutOzd7nx7D",
        "colab_type": "text"
      },
      "source": [
        "#Final Project: Visualizing World Happiness Level and Prediction\n",
        "\n",
        "Zoe Wang\n",
        "\n",
        "2020/04/30"
      ]
    },
    {
      "cell_type": "code",
      "metadata": {
        "id": "ZTK4-24Onkxr",
        "colab_type": "code",
        "colab": {}
      },
      "source": [
        ""
      ],
      "execution_count": 0,
      "outputs": []
    }
  ]
}